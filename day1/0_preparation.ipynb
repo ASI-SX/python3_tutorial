{
 "cells": [
  {
   "cell_type": "markdown",
   "metadata": {},
   "source": [
    "## 事前準備のお願い"
   ]
  },
  {
   "cell_type": "code",
   "execution_count": null,
   "metadata": {},
   "outputs": [],
   "source": [
    "%matplotlib inline"
   ]
  },
  {
   "cell_type": "markdown",
   "metadata": {},
   "source": [
    "### (0) 最新版のAnacondaがインストールされていることを確認\n",
    "* 古いバージョンのAnacondaの場合、演習用Notebookでエラーがでることがあります。\n",
    "* 最新版でない場合は、一旦このNotebookを閉じて、最新版のAnacondaをインストールしてください。その際、バージョンの混乱を避けるため、先にインストール済みのAnacondaをアンインストールしておいて下さい。\n",
    "* 最新版のAnacondaがインストールされていることを確認できた方は、(1)以降に進んでください。"
   ]
  },
  {
   "cell_type": "markdown",
   "metadata": {
    "ExecuteTime": {
     "end_time": "2018-03-30T03:25:46.484654Z",
     "start_time": "2018-03-30T03:25:46.471092Z"
    }
   },
   "source": [
    "### (1) 端末にて、pandasのアップデート\n",
    "* pip install -U pandas\n",
    "* versionは、0.22.0以降であればok"
   ]
  },
  {
   "cell_type": "code",
   "execution_count": null,
   "metadata": {
    "ExecuteTime": {
     "end_time": "2018-03-30T03:27:15.882241Z",
     "start_time": "2018-03-30T03:27:15.870827Z"
    }
   },
   "outputs": [],
   "source": [
    "import pandas as pd\n",
    "pd.__version__"
   ]
  },
  {
   "cell_type": "markdown",
   "metadata": {},
   "source": [
    "### (2) 端末にて、daskのアップデート\n",
    "* pip install -U dask\n",
    "* versionは、0.17.2以降であればok"
   ]
  },
  {
   "cell_type": "code",
   "execution_count": null,
   "metadata": {
    "ExecuteTime": {
     "end_time": "2018-03-30T03:27:19.014087Z",
     "start_time": "2018-03-30T03:27:19.005961Z"
    }
   },
   "outputs": [],
   "source": [
    "import dask\n",
    "dask.__version__"
   ]
  },
  {
   "cell_type": "markdown",
   "metadata": {},
   "source": [
    "### (3) 端末にて、TensorFlowのインストール\n",
    "* インストールガイド： https://www.tensorflow.org/install/\n",
    "* 基本的には、pip install tensorflowでインストールできる\n",
    "* すでにインストールされている場合は、pip install -U tensorflowでupdateする\n",
    "* versionは、1.8.0以降であればok"
   ]
  },
  {
   "cell_type": "code",
   "execution_count": null,
   "metadata": {
    "ExecuteTime": {
     "end_time": "2018-03-30T03:28:08.645449Z",
     "start_time": "2018-03-30T03:28:08.636314Z"
    }
   },
   "outputs": [],
   "source": [
    "import tensorflow as tf\n",
    "tf.__version__"
   ]
  },
  {
   "cell_type": "markdown",
   "metadata": {},
   "source": [
    "### (4)TensofFlowが問題なくインストールできていることの確認"
   ]
  },
  {
   "cell_type": "code",
   "execution_count": null,
   "metadata": {
    "ExecuteTime": {
     "end_time": "2018-03-30T03:28:21.309288Z",
     "start_time": "2018-03-30T03:28:21.287675Z"
    }
   },
   "outputs": [],
   "source": [
    "# Python\n",
    "import tensorflow as tf\n",
    "hello = tf.constant('Hello, TensorFlow!')\n",
    "sess = tf.Session()\n",
    "print(sess.run(hello))"
   ]
  },
  {
   "cell_type": "markdown",
   "metadata": {
    "collapsed": true
   },
   "source": [
    "### (5)MNISTデータをダウンロードする"
   ]
  },
  {
   "cell_type": "code",
   "execution_count": null,
   "metadata": {
    "ExecuteTime": {
     "end_time": "2018-03-30T03:28:37.045186Z",
     "start_time": "2018-03-30T03:28:36.029621Z"
    }
   },
   "outputs": [],
   "source": [
    "from tensorflow.examples.tutorials.mnist import input_data\n",
    "mnist = input_data.read_data_sets(\"../../mnist_data/\", one_hot=True) #パスは適宜変更する\n",
    "\n",
    "# 以下のようなメッセージが表示されればok\n",
    "# Successfully downloaded train-images-idx3-ubyte.gz 9912422 bytes.\n",
    "# Extracting mnist_data/train-images-idx3-ubyte.gz\n",
    "# Successfully downloaded train-labels-idx1-ubyte.gz 28881 bytes.\n",
    "# Extracting mnist_data/train-labels-idx1-ubyte.gz\n",
    "# Successfully downloaded t10k-images-idx3-ubyte.gz 1648877 bytes.\n",
    "# Extracting mnist_data/t10k-images-idx3-ubyte.gz\n",
    "# Successfully downloaded t10k-labels-idx1-ubyte.gz 4542 bytes.\n",
    "# Extracting mnist_data/t10k-labels-idx1-ubyte.gz\n",
    "\n",
    "# WARNINGは表示されても問題なし"
   ]
  },
  {
   "cell_type": "code",
   "execution_count": null,
   "metadata": {
    "ExecuteTime": {
     "end_time": "2018-03-30T03:28:43.109666Z",
     "start_time": "2018-03-30T03:28:43.100756Z"
    }
   },
   "outputs": [],
   "source": [
    "print(\"学習用データの数\",mnist.train.num_examples) # 55000であればok\n",
    "print(\"テスト用データの数\",mnist.test.num_examples) # 10000であればok"
   ]
  },
  {
   "cell_type": "code",
   "execution_count": null,
   "metadata": {
    "ExecuteTime": {
     "end_time": "2018-03-30T03:28:44.482101Z",
     "start_time": "2018-03-30T03:28:43.987197Z"
    }
   },
   "outputs": [],
   "source": [
    "import numpy as np\n",
    "import matplotlib.pylab as plt\n",
    "label = mnist.train.labels[1]\n",
    "img = mnist.train.images[1]\n",
    "print(\"label=\", label)\n",
    "img = img.reshape(28,28)\n",
    "img = np.uint8(img*255)\n",
    "plt.imshow(img)\n",
    "plt.gray()\n",
    "plt.show()\n",
    "\n",
    "# 手書きの3が表示されればok"
   ]
  },
  {
   "cell_type": "markdown",
   "metadata": {},
   "source": [
    "### (6) 端末にて、kerasをインストール\n",
    "* pip install keras\n",
    "    * 以下のようなメッセージが表示されたらok\n",
    "```\n",
    "$ pip install keras\n",
    "Collecting keras\n",
    "  Downloading Keras-2.1.4-py2.py3-none-any.whl (322kB)\n",
    "    100% |████████████████████████████████| 327kB 1.5MB/s\n",
    "Requirement already satisfied: pyyaml in /Users/ogata/.pyenv/versions/anaconda3-5.0.1/lib/python3.6/site-packages (from keras)\n",
    "Requirement already satisfied: numpy>=1.9.1 in /Users/ogata/.pyenv/versions/anaconda3-5.0.1/lib/python3.6/site-packages (from keras)\n",
    "Requirement already satisfied: six>=1.9.0 in /Users/ogata/.pyenv/versions/anaconda3-5.0.1/lib/python3.6/site-packages (from keras)\n",
    "Requirement already satisfied: scipy>=0.14 in /Users/ogata/.pyenv/versions/anaconda3-5.0.1/lib/python3.6/site-packages (from keras)\n",
    "Installing collected packages: keras\n",
    "Successfully installed keras-2.1.4\n",
    "```\n",
    "\n",
    "* すでにインストールされている場合は、pip install -U kerasでupdate\n",
    "* versionは、'2.1.6'以降であればok"
   ]
  },
  {
   "cell_type": "code",
   "execution_count": null,
   "metadata": {
    "ExecuteTime": {
     "end_time": "2018-03-30T03:31:32.201453Z",
     "start_time": "2018-03-30T03:31:32.193507Z"
    }
   },
   "outputs": [],
   "source": [
    "import keras\n",
    "keras.__version__"
   ]
  },
  {
   "cell_type": "markdown",
   "metadata": {},
   "source": [
    "### (7) 端末にてplotlyをインストール\n",
    "* pip install plotly\n",
    "* versionは、'2.5.1'以降であればok"
   ]
  },
  {
   "cell_type": "code",
   "execution_count": null,
   "metadata": {},
   "outputs": [],
   "source": [
    "import plotly\n",
    "plotly.__version__"
   ]
  },
  {
   "cell_type": "markdown",
   "metadata": {},
   "source": [
    "### (8)端末にてAugmentorをインストール\n",
    "* pip install Augmentor\n",
    "* versionは、'0.2.1'以降であればok"
   ]
  },
  {
   "cell_type": "code",
   "execution_count": null,
   "metadata": {},
   "outputs": [],
   "source": [
    "import Augmentor\n",
    "Augmentor.__version__"
   ]
  }
 ],
 "metadata": {
  "kernelspec": {
   "display_name": "Python 3",
   "language": "python",
   "name": "python3"
  },
  "language_info": {
   "codemirror_mode": {
    "name": "ipython",
    "version": 3
   },
   "file_extension": ".py",
   "mimetype": "text/x-python",
   "name": "python",
   "nbconvert_exporter": "python",
   "pygments_lexer": "ipython3",
   "version": "3.6.4"
  }
 },
 "nbformat": 4,
 "nbformat_minor": 2
}
