{
 "cells": [
  {
   "cell_type": "markdown",
   "metadata": {},
   "source": [
    "#  活性化関数"
   ]
  },
  {
   "cell_type": "code",
   "execution_count": 2,
   "metadata": {
    "ExecuteTime": {
     "end_time": "2018-03-30T04:19:47.916151Z",
     "start_time": "2018-03-30T04:19:47.906508Z"
    }
   },
   "outputs": [],
   "source": [
    "import numpy as np\n",
    "import matplotlib.pyplot as plt"
   ]
  },
  {
   "cell_type": "markdown",
   "metadata": {},
   "source": [
    "## 恒等写像関数\n",
    "$h(x)=x$"
   ]
  },
  {
   "cell_type": "code",
   "execution_count": null,
   "metadata": {
    "ExecuteTime": {
     "end_time": "2018-03-30T04:21:49.291888Z",
     "start_time": "2018-03-30T04:21:49.069209Z"
    }
   },
   "outputs": [],
   "source": [
    "def linear(x):\n",
    "    return x\n",
    "    \n",
    "x = np.arange(-5,5,0.1)\n",
    "y = linear(x) \n",
    "plt.figure(figsize=(3.5,3))\n",
    "plt.plot(x,y)\n",
    "plt.xlabel(\"x\")\n",
    "plt.ylabel(\"y\")\n",
    "plt.ylim([-5,5])\n",
    "plt.show()"
   ]
  },
  {
   "cell_type": "markdown",
   "metadata": {},
   "source": [
    "### [演習]\n",
    "- 以下のステップ関数、シグモイド関数、tanh関数、ReLU関数、LeakyReLU関数、Softplus関数、Hartanh関数を完成させましょう。\n",
    "- 時間が足りない場合は、持ち帰って自宅で取り組んでみましょう。"
   ]
  },
  {
   "cell_type": "markdown",
   "metadata": {},
   "source": [
    "## ステップ関数\n",
    "$h(x) = 1 (x>0)$  \n",
    "$h(x) = 0 (x<=0)$"
   ]
  },
  {
   "cell_type": "code",
   "execution_count": null,
   "metadata": {
    "ExecuteTime": {
     "end_time": "2018-03-30T04:19:48.197833Z",
     "start_time": "2018-03-30T04:19:48.181897Z"
    }
   },
   "outputs": [],
   "source": [
    "# ヒント\n",
    "a = np.array([-1,0,1])\n",
    "print(a > 0)\n",
    "np.array([True, False]).astype(np.int)"
   ]
  },
  {
   "cell_type": "code",
   "execution_count": null,
   "metadata": {
    "ExecuteTime": {
     "end_time": "2018-03-30T04:21:58.538256Z",
     "start_time": "2018-03-30T04:21:58.305683Z"
    }
   },
   "outputs": [],
   "source": [
    "def step(x):\n",
    "    return np.array(x>0).astype(np.int)\n",
    "    \n",
    "x = np.arange(-5,5,0.1)\n",
    "y = step(x) \n",
    "plt.figure(figsize=(3.5,3))\n",
    "plt.plot(x,y)\n",
    "plt.xlabel(\"x\")\n",
    "plt.ylabel(\"y\")\n",
    "plt.ylim([-0.1,1.1])\n",
    "plt.show()"
   ]
  },
  {
   "cell_type": "markdown",
   "metadata": {},
   "source": [
    "## シグモイド関数"
   ]
  },
  {
   "cell_type": "markdown",
   "metadata": {},
   "source": [
    "$\\displaystyle{h(x)=\\frac{1}{(1+\\exp(-x))}}$"
   ]
  },
  {
   "cell_type": "code",
   "execution_count": null,
   "metadata": {
    "ExecuteTime": {
     "end_time": "2018-03-30T04:19:48.451823Z",
     "start_time": "2018-03-30T04:19:48.438171Z"
    }
   },
   "outputs": [],
   "source": [
    "# ヒント\n",
    "np.exp(1)"
   ]
  },
  {
   "cell_type": "code",
   "execution_count": null,
   "metadata": {
    "ExecuteTime": {
     "end_time": "2018-03-30T04:22:02.610225Z",
     "start_time": "2018-03-30T04:22:02.343295Z"
    }
   },
   "outputs": [],
   "source": [
    "def sigmoid(x):\n",
    "    return 1 / (1+ np.exp(-x))\n",
    "\n",
    "x = np.arange(-5,5,0.1)\n",
    "y = sigmoid(x) \n",
    "plt.figure(figsize=(3.5,3))\n",
    "plt.plot(x,y)\n",
    "plt.xlabel(\"x\")\n",
    "plt.ylabel(\"y\")\n",
    "plt.ylim([-0.1,1.1])\n",
    "plt.show()"
   ]
  },
  {
   "cell_type": "markdown",
   "metadata": {},
   "source": [
    "## tanh関数\n",
    "$\\displaystyle h(x) = \\frac{sinh(x)}{cosh(x)}=\\frac{e^x-e^{-x}}{e^x+e^{-x}}$  "
   ]
  },
  {
   "cell_type": "code",
   "execution_count": null,
   "metadata": {
    "ExecuteTime": {
     "end_time": "2018-03-30T04:19:48.731575Z",
     "start_time": "2018-03-30T04:19:48.706212Z"
    }
   },
   "outputs": [],
   "source": [
    "# ヒント\n",
    "np.sinh(1),np.cosh(1),np.tanh(1)"
   ]
  },
  {
   "cell_type": "code",
   "execution_count": null,
   "metadata": {
    "ExecuteTime": {
     "end_time": "2018-03-30T04:22:09.539163Z",
     "start_time": "2018-03-30T04:22:09.303442Z"
    }
   },
   "outputs": [],
   "source": [
    "def tanh(x):\n",
    "    return np.tanh(x)\n",
    "#     return np.sinh(x)/np.cosh(x)\n",
    "#     return (np.exp(x)-np.exp(-x))/(np.exp(x)+np.exp(-x))\n",
    "\n",
    "x = np.arange(-5,5,0.1)\n",
    "y = tanh(x) \n",
    "plt.figure(figsize=(3.5,3))\n",
    "plt.plot(x,y)\n",
    "plt.xlabel(\"x\")\n",
    "plt.ylabel(\"y\")\n",
    "plt.ylim([-2,2])\n",
    "plt.show()"
   ]
  },
  {
   "cell_type": "markdown",
   "metadata": {},
   "source": [
    "## ReLU関数\n",
    "$h(x) = x (x>=0)$  \n",
    "$h(x) = 0 (x<0)$"
   ]
  },
  {
   "cell_type": "code",
   "execution_count": null,
   "metadata": {
    "ExecuteTime": {
     "end_time": "2018-03-30T04:19:48.989338Z",
     "start_time": "2018-03-30T04:19:48.980634Z"
    }
   },
   "outputs": [],
   "source": [
    "# ヒント\n",
    "np.maximum(1, np.array([-1, 0, 1, 2]))"
   ]
  },
  {
   "cell_type": "code",
   "execution_count": null,
   "metadata": {
    "ExecuteTime": {
     "end_time": "2018-03-30T04:22:13.015776Z",
     "start_time": "2018-03-30T04:22:12.782611Z"
    },
    "scrolled": true
   },
   "outputs": [],
   "source": [
    "def relu(x):\n",
    "    return np.maximum(0, x)\n",
    "\n",
    "x = np.arange(-5,5,0.1)\n",
    "y = relu(x) \n",
    "plt.figure(figsize=(3.5,3))\n",
    "plt.plot(x,y)\n",
    "plt.xlabel(\"x\")\n",
    "plt.ylabel(\"y\")\n",
    "plt.ylim([-5.0,5])\n",
    "plt.show()"
   ]
  },
  {
   "cell_type": "markdown",
   "metadata": {},
   "source": [
    "## LeakyReLU\n",
    "$h(x) = x (x>=0)$  \n",
    "$h(x) = ax (x<0)$"
   ]
  },
  {
   "cell_type": "code",
   "execution_count": 3,
   "metadata": {
    "ExecuteTime": {
     "end_time": "2018-03-30T04:22:16.649866Z",
     "start_time": "2018-03-30T04:22:16.415410Z"
    }
   },
   "outputs": [
    {
     "data": {
      "image/png": "[encoded data removed]",
      "text/plain": [
       "<matplotlib.figure.Figure at 0x7f29248f7ba8>"
      ]
     },
     "metadata": {},
     "output_type": "display_data"
    }
   ],
   "source": [
    "def leakyrelu(x, a=0.1):\n",
    "#    return np.maximum(0, x) + np.minimum(0, x) * a\n",
    "    return np.maximum(x, (x * a))\n",
    "\n",
    "x = np.arange(-5,5,0.1)\n",
    "y = leakyrelu(x) \n",
    "plt.figure(figsize=(3.5,3))\n",
    "plt.plot(x,y)\n",
    "plt.xlabel(\"x\")\n",
    "plt.ylabel(\"y\")\n",
    "plt.ylim([-5.0,5])\n",
    "plt.show()"
   ]
  },
  {
   "cell_type": "markdown",
   "metadata": {},
   "source": [
    "## Softplus\n",
    "$h(x)=\\log(1+\\exp(x))$"
   ]
  },
  {
   "cell_type": "code",
   "execution_count": null,
   "metadata": {
    "ExecuteTime": {
     "end_time": "2018-03-30T04:22:22.530975Z",
     "start_time": "2018-03-30T04:22:22.206163Z"
    }
   },
   "outputs": [],
   "source": [
    "def softplus(x):\n",
    "    return np.log(1+np.exp(x))\n",
    "\n",
    "x = np.arange(-5,5,0.1)\n",
    "y = softplus(x) \n",
    "plt.figure(figsize=(3.5,3))\n",
    "plt.plot(x,y)\n",
    "plt.xlabel(\"x\")\n",
    "plt.ylabel(\"y\")\n",
    "plt.ylim([-5.0,5])\n",
    "plt.show()"
   ]
  },
  {
   "cell_type": "markdown",
   "metadata": {},
   "source": [
    "## Hardtanh\n",
    "$h(x) = x (-1<=x, x<=1)$  \n",
    "$h(x) = 1 (x>1)$  \n",
    "$h(x) = -1 (x<-1)$"
   ]
  },
  {
   "cell_type": "code",
   "execution_count": null,
   "metadata": {
    "ExecuteTime": {
     "end_time": "2018-03-30T04:22:25.641886Z",
     "start_time": "2018-03-30T04:22:25.401598Z"
    }
   },
   "outputs": [],
   "source": [
    "def hardtanh(x):\n",
    "    return np.maximum(-1, np.minimum(1, x))\n",
    "\n",
    "x = np.arange(-5,5,0.1)\n",
    "y = hardtanh(x) \n",
    "plt.figure(figsize=(3.5,3))\n",
    "plt.plot(x,y)\n",
    "plt.xlabel(\"x\")\n",
    "plt.ylabel(\"y\")\n",
    "plt.ylim([-5.0,5])\n",
    "plt.show()"
   ]
  },
  {
   "cell_type": "code",
   "execution_count": null,
   "metadata": {},
   "outputs": [],
   "source": []
  }
 ],
 "metadata": {
  "anaconda-cloud": {},
  "kernelspec": {
   "display_name": "Python 3",
   "language": "python",
   "name": "python3"
  },
  "language_info": {
   "codemirror_mode": {
    "name": "ipython",
    "version": 3
   },
   "file_extension": ".py",
   "mimetype": "text/x-python",
   "name": "python",
   "nbconvert_exporter": "python",
   "pygments_lexer": "ipython3",
   "version": "3.6.5"
  }
 },
 "nbformat": 4,
 "nbformat_minor": 1
}
