{
 "cells": [
  {
   "cell_type": "markdown",
   "metadata": {},
   "source": [
    "# MNISTデータを眺める"
   ]
  },
  {
   "cell_type": "code",
   "execution_count": null,
   "metadata": {
    "ExecuteTime": {
     "end_time": "2018-03-30T05:44:34.738010Z",
     "start_time": "2018-03-30T05:44:33.614086Z"
    },
    "scrolled": true
   },
   "outputs": [],
   "source": [
    "from PIL import Image\n",
    "import numpy as np\n",
    "import matplotlib.pyplot as plt\n",
    "\n",
    "# Load the MNIST dataset\n",
    "from tensorflow.examples.tutorials.mnist import input_data\n",
    "mnist = input_data.read_data_sets(\"../../mnist_data/\", one_hot=True) #パスは適宜変更する\n",
    "train = mnist.train.images\n",
    "test = mnist.test.images\n",
    "train_labels = mnist.train.labels\n",
    "test_labels = mnist.test.labels"
   ]
  },
  {
   "cell_type": "markdown",
   "metadata": {},
   "source": [
    "## データ数=画像枚数"
   ]
  },
  {
   "cell_type": "code",
   "execution_count": null,
   "metadata": {
    "ExecuteTime": {
     "end_time": "2018-03-30T05:44:36.636842Z",
     "start_time": "2018-03-30T05:44:36.629225Z"
    },
    "scrolled": true
   },
   "outputs": [],
   "source": [
    "len(train),len(test)"
   ]
  },
  {
   "cell_type": "markdown",
   "metadata": {},
   "source": [
    "### trainの1枚目を取り出してみる"
   ]
  },
  {
   "cell_type": "code",
   "execution_count": null,
   "metadata": {
    "ExecuteTime": {
     "end_time": "2018-03-30T05:44:37.400832Z",
     "start_time": "2018-03-30T05:44:37.377807Z"
    },
    "scrolled": false
   },
   "outputs": [],
   "source": [
    "label = train_labels[0]\n",
    "img = train[0]\n",
    "print(\"label=%s\"%label)\n",
    "img"
   ]
  },
  {
   "cell_type": "markdown",
   "metadata": {},
   "source": [
    "### mnistデータは、1次元配列に変換した形式になっている"
   ]
  },
  {
   "cell_type": "code",
   "execution_count": null,
   "metadata": {
    "ExecuteTime": {
     "end_time": "2018-03-30T05:44:38.506744Z",
     "start_time": "2018-03-30T05:44:38.499582Z"
    }
   },
   "outputs": [],
   "source": [
    "img.shape"
   ]
  },
  {
   "cell_type": "code",
   "execution_count": null,
   "metadata": {
    "ExecuteTime": {
     "end_time": "2018-03-30T05:44:38.806178Z",
     "start_time": "2018-03-30T05:44:38.797216Z"
    }
   },
   "outputs": [],
   "source": [
    "# 784は、28ピクセル*28ピクセルのこと\n",
    "28*28"
   ]
  },
  {
   "cell_type": "markdown",
   "metadata": {},
   "source": [
    "### 28pixel×28pixelの形に変換する"
   ]
  },
  {
   "cell_type": "code",
   "execution_count": null,
   "metadata": {
    "ExecuteTime": {
     "end_time": "2018-03-30T05:44:39.576059Z",
     "start_time": "2018-03-30T05:44:39.557116Z"
    },
    "scrolled": true
   },
   "outputs": [],
   "source": [
    "img = img.reshape(28,28)\n",
    "img"
   ]
  },
  {
   "cell_type": "markdown",
   "metadata": {},
   "source": [
    "### 0~255階調に変換する"
   ]
  },
  {
   "cell_type": "code",
   "execution_count": null,
   "metadata": {
    "ExecuteTime": {
     "end_time": "2018-03-30T05:44:40.412795Z",
     "start_time": "2018-03-30T05:44:40.397915Z"
    },
    "scrolled": true
   },
   "outputs": [],
   "source": [
    "img = img*255\n",
    "img = np.uint8(img)\n",
    "img"
   ]
  },
  {
   "cell_type": "code",
   "execution_count": null,
   "metadata": {
    "ExecuteTime": {
     "end_time": "2018-03-30T05:44:40.952060Z",
     "start_time": "2018-03-30T05:44:40.780503Z"
    }
   },
   "outputs": [],
   "source": [
    "plt.imshow(img)\n",
    "plt.gray()\n",
    "plt.show()"
   ]
  },
  {
   "cell_type": "markdown",
   "metadata": {},
   "source": [
    "### trainの10枚を表示してみる"
   ]
  },
  {
   "cell_type": "code",
   "execution_count": null,
   "metadata": {
    "ExecuteTime": {
     "end_time": "2018-03-30T05:44:43.127464Z",
     "start_time": "2018-03-30T05:44:41.561929Z"
    },
    "scrolled": true
   },
   "outputs": [],
   "source": [
    "for i in range(10):\n",
    "    label = train_labels[i]\n",
    "    img = train[i]\n",
    "    print(\"label=\", label)\n",
    "    img = img.reshape(28,28)\n",
    "    img = np.uint8(img*255)\n",
    "    plt.imshow(img)\n",
    "    plt.gray()\n",
    "    plt.show()"
   ]
  },
  {
   "cell_type": "markdown",
   "metadata": {},
   "source": [
    "### testの10枚を表示してみる"
   ]
  },
  {
   "cell_type": "code",
   "execution_count": null,
   "metadata": {
    "ExecuteTime": {
     "end_time": "2018-03-30T05:44:44.678764Z",
     "start_time": "2018-03-30T05:44:43.131929Z"
    },
    "scrolled": true
   },
   "outputs": [],
   "source": [
    "for i in range(10):\n",
    "    label = test_labels[i]\n",
    "    img = test[i]\n",
    "    print(\"label=\", label)\n",
    "    img = img.reshape(28,28)\n",
    "    img = np.uint8(img*255)\n",
    "    plt.imshow(img)\n",
    "    plt.gray()\n",
    "    plt.show()"
   ]
  },
  {
   "cell_type": "code",
   "execution_count": null,
   "metadata": {},
   "outputs": [],
   "source": []
  }
 ],
 "metadata": {
  "anaconda-cloud": {},
  "kernelspec": {
   "display_name": "Python 3",
   "language": "python",
   "name": "python3"
  },
  "language_info": {
   "codemirror_mode": {
    "name": "ipython",
    "version": 3
   },
   "file_extension": ".py",
   "mimetype": "text/x-python",
   "name": "python",
   "nbconvert_exporter": "python",
   "pygments_lexer": "ipython3",
   "version": "3.6.5"
  }
 },
 "nbformat": 4,
 "nbformat_minor": 1
}
